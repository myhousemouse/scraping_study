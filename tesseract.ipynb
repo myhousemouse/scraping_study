{
  "nbformat": 4,
  "nbformat_minor": 0,
  "metadata": {
    "colab": {
      "provenance": [],
      "authorship_tag": "ABX9TyPVPhXTYtAND9tbX8Ktqx3C",
      "include_colab_link": true
    },
    "kernelspec": {
      "name": "python3",
      "display_name": "Python 3"
    },
    "language_info": {
      "name": "python"
    }
  },
  "cells": [
    {
      "cell_type": "markdown",
      "metadata": {
        "id": "view-in-github",
        "colab_type": "text"
      },
      "source": [
        "<a href=\"https://colab.research.google.com/github/myhousemouse/scraping_study/blob/main/tesseract.ipynb\" target=\"_parent\"><img src=\"https://colab.research.google.com/assets/colab-badge.svg\" alt=\"Open In Colab\"/></a>"
      ]
    },
    {
      "cell_type": "code",
      "execution_count": null,
      "metadata": {
        "colab": {
          "base_uri": "https://localhost:8080/"
        },
        "id": "pmtUSpXUydJz",
        "outputId": "c5fbaa3f-aee6-4aab-f789-d478f5e16fd6"
      },
      "outputs": [
        {
          "output_type": "stream",
          "name": "stdout",
          "text": [
            "Collecting pytesseract\n",
            "  Downloading pytesseract-0.3.13-py3-none-any.whl.metadata (11 kB)\n",
            "Requirement already satisfied: pillow in /usr/local/lib/python3.12/dist-packages (11.3.0)\n",
            "Requirement already satisfied: packaging>=21.3 in /usr/local/lib/python3.12/dist-packages (from pytesseract) (25.0)\n",
            "Downloading pytesseract-0.3.13-py3-none-any.whl (14 kB)\n",
            "Installing collected packages: pytesseract\n",
            "Successfully installed pytesseract-0.3.13\n"
          ]
        }
      ],
      "source": [
        "pip install pytesseract pillow"
      ]
    },
    {
      "cell_type": "code",
      "source": [
        "import pytesseract\n",
        "from PIL import Image\n",
        "\n",
        "# 입력 이미지 파일 경로\n",
        "input_image = \"example.png\"\n",
        "\n",
        "try:\n",
        "    # 이미지 열기\n",
        "    image = Image.open(input_image)\n",
        "\n",
        "    # Tesseract를 사용하여 이미지에서 텍스트 추출\n",
        "    extracted_text = pytesseract.image_to_string(image)\n",
        "\n",
        "    # 결과 출력\n",
        "    print(\"추출된 텍스트:\")\n",
        "    print(extracted_text)\n",
        "\n",
        "    # 결과를 파일로 저장\n",
        "    with open(\"output.txt\", \"w\", encoding=\"utf-8\") as output_file:\n",
        "        output_file.write(extracted_text)\n",
        "\n",
        "    print(\"결과가 'output.txt' 파일에 저장되었습니다.\")\n",
        "\n",
        "except FileNotFoundError:\n",
        "    print(f\"이미지 파일 '{input_image}'을(를) 찾을 수 없습니다. 경로를 확인하세요.\")\n",
        "except Exception as e:\n",
        "    print(f\"오류 발생: {e}\")"
      ],
      "metadata": {
        "colab": {
          "base_uri": "https://localhost:8080/"
        },
        "id": "h-0S3VLbyoVI",
        "outputId": "c31c82aa-b5b1-4217-e6e3-dbb7a4e2c542"
      },
      "execution_count": null,
      "outputs": [
        {
          "output_type": "stream",
          "name": "stdout",
          "text": [
            "이미지 파일 'example.png'을(를) 찾을 수 없습니다. 경로를 확인하세요.\n"
          ]
        }
      ]
    }
  ]
}